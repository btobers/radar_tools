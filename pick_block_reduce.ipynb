{
 "cells": [
  {
   "attachments": {},
   "cell_type": "markdown",
   "metadata": {},
   "source": [
    "OIB radar reduction\n",
    "\n",
    "Notebook to take block averges of radar derived thickness and bed hgtation to reduce data volume"
   ]
  },
  {
   "cell_type": "code",
   "execution_count": 1,
   "metadata": {},
   "outputs": [],
   "source": [
    "### imports ##\n",
    "import os, sys, math\n",
    "import numpy as np\n",
    "import pandas as pd\n",
    "import geopandas as gpd\n",
    "import matplotlib.pyplot as plt\n",
    "import numpy as np\n",
    "import pyproj\n",
    "import verde as vd"
   ]
  },
  {
   "cell_type": "code",
   "execution_count": 2,
   "metadata": {},
   "outputs": [
    {
     "name": "stdout",
     "output_type": "stream",
     "text": [
      "True\n"
     ]
    }
   ],
   "source": [
    "dat_path = 'F:/MARS/orig/xtra/OIB-AK/radar/nsidc/'\n",
    "f = dat_path + '/IRARES2/IRARES2.gpkg'\n",
    "print(os.path.isfile(f))"
   ]
  },
  {
   "cell_type": "code",
   "execution_count": 3,
   "metadata": {},
   "outputs": [],
   "source": [
    "gdf = gpd.read_file(f)"
   ]
  },
  {
   "cell_type": "code",
   "execution_count": 4,
   "metadata": {},
   "outputs": [
    {
     "data": {
      "text/html": [
       "<div>\n",
       "<style scoped>\n",
       "    .dataframe tbody tr th:only-of-type {\n",
       "        vertical-align: middle;\n",
       "    }\n",
       "\n",
       "    .dataframe tbody tr th {\n",
       "        vertical-align: top;\n",
       "    }\n",
       "\n",
       "    .dataframe thead th {\n",
       "        text-align: right;\n",
       "    }\n",
       "</style>\n",
       "<table border=\"1\" class=\"dataframe\">\n",
       "  <thead>\n",
       "    <tr style=\"text-align: right;\">\n",
       "      <th></th>\n",
       "      <th>fname</th>\n",
       "      <th>trace</th>\n",
       "      <th>lon</th>\n",
       "      <th>lat</th>\n",
       "      <th>hgt</th>\n",
       "      <th>srf_sample</th>\n",
       "      <th>srf_twtt</th>\n",
       "      <th>srf_hgt</th>\n",
       "      <th>bed_sample</th>\n",
       "      <th>bed_twtt</th>\n",
       "      <th>bed_hgt</th>\n",
       "      <th>ice_thickness</th>\n",
       "      <th>geometry</th>\n",
       "    </tr>\n",
       "  </thead>\n",
       "  <tbody>\n",
       "    <tr>\n",
       "      <th>0</th>\n",
       "      <td>IRARES2_20160528-224052</td>\n",
       "      <td>0</td>\n",
       "      <td>-140.498316</td>\n",
       "      <td>59.793913</td>\n",
       "      <td>518.278004</td>\n",
       "      <td>218.0</td>\n",
       "      <td>0.000002</td>\n",
       "      <td>191.504238</td>\n",
       "      <td>NaN</td>\n",
       "      <td>NaN</td>\n",
       "      <td>NaN</td>\n",
       "      <td>NaN</td>\n",
       "      <td>POINT (-140.49832 59.79391)</td>\n",
       "    </tr>\n",
       "    <tr>\n",
       "      <th>1</th>\n",
       "      <td>IRARES2_20160528-224052</td>\n",
       "      <td>1</td>\n",
       "      <td>-140.498526</td>\n",
       "      <td>59.793948</td>\n",
       "      <td>518.566002</td>\n",
       "      <td>217.0</td>\n",
       "      <td>0.000002</td>\n",
       "      <td>193.291182</td>\n",
       "      <td>425.0</td>\n",
       "      <td>0.000004</td>\n",
       "      <td>17.620713</td>\n",
       "      <td>175.670469</td>\n",
       "      <td>POINT (-140.49853 59.79395)</td>\n",
       "    </tr>\n",
       "    <tr>\n",
       "      <th>2</th>\n",
       "      <td>IRARES2_20160528-224052</td>\n",
       "      <td>2</td>\n",
       "      <td>-140.498735</td>\n",
       "      <td>59.793983</td>\n",
       "      <td>518.851000</td>\n",
       "      <td>215.0</td>\n",
       "      <td>0.000002</td>\n",
       "      <td>196.574108</td>\n",
       "      <td>422.0</td>\n",
       "      <td>0.000004</td>\n",
       "      <td>21.748206</td>\n",
       "      <td>174.825901</td>\n",
       "      <td>POINT (-140.49874 59.79398)</td>\n",
       "    </tr>\n",
       "    <tr>\n",
       "      <th>3</th>\n",
       "      <td>IRARES2_20160528-224052</td>\n",
       "      <td>3</td>\n",
       "      <td>-140.498945</td>\n",
       "      <td>59.794018</td>\n",
       "      <td>519.129999</td>\n",
       "      <td>214.0</td>\n",
       "      <td>0.000002</td>\n",
       "      <td>198.352087</td>\n",
       "      <td>421.0</td>\n",
       "      <td>0.000004</td>\n",
       "      <td>23.526175</td>\n",
       "      <td>174.825912</td>\n",
       "      <td>POINT (-140.49894 59.79402)</td>\n",
       "    </tr>\n",
       "    <tr>\n",
       "      <th>4</th>\n",
       "      <td>IRARES2_20160528-224052</td>\n",
       "      <td>4</td>\n",
       "      <td>-140.499154</td>\n",
       "      <td>59.794053</td>\n",
       "      <td>519.399997</td>\n",
       "      <td>213.0</td>\n",
       "      <td>0.000002</td>\n",
       "      <td>200.121031</td>\n",
       "      <td>419.0</td>\n",
       "      <td>0.000004</td>\n",
       "      <td>26.139698</td>\n",
       "      <td>173.981333</td>\n",
       "      <td>POINT (-140.49915 59.79405)</td>\n",
       "    </tr>\n",
       "  </tbody>\n",
       "</table>\n",
       "</div>"
      ],
      "text/plain": [
       "                     fname  trace         lon        lat         hgt  \\\n",
       "0  IRARES2_20160528-224052      0 -140.498316  59.793913  518.278004   \n",
       "1  IRARES2_20160528-224052      1 -140.498526  59.793948  518.566002   \n",
       "2  IRARES2_20160528-224052      2 -140.498735  59.793983  518.851000   \n",
       "3  IRARES2_20160528-224052      3 -140.498945  59.794018  519.129999   \n",
       "4  IRARES2_20160528-224052      4 -140.499154  59.794053  519.399997   \n",
       "\n",
       "   srf_sample  srf_twtt     srf_hgt  bed_sample  bed_twtt    bed_hgt  \\\n",
       "0       218.0  0.000002  191.504238         NaN       NaN        NaN   \n",
       "1       217.0  0.000002  193.291182       425.0  0.000004  17.620713   \n",
       "2       215.0  0.000002  196.574108       422.0  0.000004  21.748206   \n",
       "3       214.0  0.000002  198.352087       421.0  0.000004  23.526175   \n",
       "4       213.0  0.000002  200.121031       419.0  0.000004  26.139698   \n",
       "\n",
       "   ice_thickness                     geometry  \n",
       "0            NaN  POINT (-140.49832 59.79391)  \n",
       "1     175.670469  POINT (-140.49853 59.79395)  \n",
       "2     174.825901  POINT (-140.49874 59.79398)  \n",
       "3     174.825912  POINT (-140.49894 59.79402)  \n",
       "4     173.981333  POINT (-140.49915 59.79405)  "
      ]
     },
     "execution_count": 4,
     "metadata": {},
     "output_type": "execute_result"
    }
   ],
   "source": [
    "gdf.head()"
   ]
  },
  {
   "cell_type": "code",
   "execution_count": 5,
   "metadata": {},
   "outputs": [],
   "source": [
    "# project\n",
    "gdf = gdf.to_crs('epsg:3338')"
   ]
  },
  {
   "cell_type": "code",
   "execution_count": 6,
   "metadata": {},
   "outputs": [],
   "source": [
    "# use verde to reduce along fname data \n",
    "reducer = vd.BlockReduce(np.mean, spacing=50)\n",
    "\n",
    "fname = []\n",
    "x = []\n",
    "y = []\n",
    "srf_z = []\n",
    "bed_z = []\n",
    "h = []\n",
    "\n",
    "for fname_ in list(gdf.fname.unique()):\n",
    "    (x_, y_), srf_ = reducer.filter((gdf[gdf['fname']==fname_].centroid.x.to_numpy(), gdf[gdf['fname']==fname_].centroid.y.to_numpy()), gdf[gdf['fname']==fname_].srf_hgt.to_numpy())\n",
    "    (x_, y_), bed_ = reducer.filter((gdf[gdf['fname']==fname_].centroid.x.to_numpy(), gdf[gdf['fname']==fname_].centroid.y.to_numpy()), gdf[gdf['fname']==fname_].bed_hgt.to_numpy())\n",
    "    (x_, y_), h_ = reducer.filter((gdf[gdf['fname']==fname_].centroid.x.to_numpy(), gdf[gdf['fname']==fname_].centroid.y.to_numpy()), gdf[gdf['fname']==fname_].ice_thickness.to_numpy())\n",
    "    x.append(x_)\n",
    "    y.append(y_)\n",
    "    srf_z.append(srf_)\n",
    "    bed_z.append(bed_)\n",
    "    h.append(h_)\n",
    "    fname.append([fname_ for i in range(len(x_))])\n",
    "\n",
    "fname = np.hstack(fname)\n",
    "x = np.hstack(x)\n",
    "y = np.hstack(y)\n",
    "srf_z = np.hstack(srf_z)\n",
    "bed_z = np.hstack(bed_z)\n",
    "h = np.hstack(h)"
   ]
  },
  {
   "cell_type": "code",
   "execution_count": 7,
   "metadata": {},
   "outputs": [],
   "source": [
    "df = pd.DataFrame(\n",
    "    {'fname': fname,\n",
    "     'srf_z': srf_z,\n",
    "     'bed_z': bed_z,\n",
    "     'h': h,\n",
    "     'x': x,\n",
    "     'y': y})\n",
    "     \n",
    "gdf_out = gpd.GeoDataFrame(\n",
    "    df, geometry=gpd.points_from_xy(df.x, df.y), crs='epsg:3338').to_crs('epsg:4326')\n",
    "\n",
    "gdf_out = gdf_out.drop(columns=['x','y'])\n",
    "\n",
    "gdf_out.to_file(dat_path + 'IRARES2_block_reduce.gpkg', driver=\"GPKG\")"
   ]
  }
 ],
 "metadata": {
  "kernelspec": {
   "display_name": "py3",
   "language": "python",
   "name": "python3"
  },
  "language_info": {
   "codemirror_mode": {
    "name": "ipython",
    "version": 3
   },
   "file_extension": ".py",
   "mimetype": "text/x-python",
   "name": "python",
   "nbconvert_exporter": "python",
   "pygments_lexer": "ipython3",
   "version": "3.9.7"
  },
  "orig_nbformat": 4,
  "vscode": {
   "interpreter": {
    "hash": "f7ca193a9b9b2edf99a2f55446d73258d061553cf7f16ffaf2fd0b55d43c7597"
   }
  }
 },
 "nbformat": 4,
 "nbformat_minor": 2
}
