{
 "cells": [
  {
   "cell_type": "markdown",
   "metadata": {},
   "source": [
    "# RAGU radar pick length calculator\n",
    "Notebook designed to calculate the length of radar data interpreted and uninterpreted.\n",
    "\n",
    "RAGU pick files may contain arrays for a particular track which have picks along subsections of that track.\n",
    "\n",
    "Therefore, calculating the total length of all line segments will over-estimate the length of picked data.\n",
    "\n",
    "Here, we split up tracks based on the trace increment and then calculate the length of measurements in line-km.\n",
    "\n",
    "BST 20221206\n",
    "\n",
    "\n",
    "### psuedocode ###\n",
    "1. read in dataset containing RAGU radar picks\n",
    "    a. remove nulls where no picks were made\n",
    "2. break up each track into subsections based on the trace increment\n",
    "    a. if the along-track trace increment is greater than 1, split track measurements into n chunks\n",
    "3. create geodataframe and make linestring from points\n",
    "4. calculate measurement distance"
   ]
  },
  {
   "cell_type": "code",
   "execution_count": 1,
   "metadata": {},
   "outputs": [],
   "source": [
    "### impots ###\n",
    "import sys, os, itertools\n",
    "import numpy as np\n",
    "import pandas as pd\n",
    "import pyproj\n",
    "import geopandas as gpd\n",
    "from shapely.geometry import Point, LineString\n",
    "import matplotlib.pyplot as plt\n",
    "import matplotlib.colors as colors\n",
    "import matplotlib.patches as mpatches\n",
    "\n",
    "%matplotlib inline\n",
    "plt.rcParams[\"font.family\"] = \"Calibri\"\n",
    "plt.rcParams['font.size'] = 8\n",
    "plt.rcParams['legend.fontsize'] = 8\n",
    "pd.set_option('display.max_rows', 500)"
   ]
  },
  {
   "cell_type": "code",
   "execution_count": 7,
   "metadata": {},
   "outputs": [],
   "source": [
    "### function declarations ###\n",
    "\n",
    "def project_array(x=None, y=None, from_epsg=4326, to_epsg=3338, always_xy=True):\n",
    "    \"\"\"\n",
    "    use pyproj to project our x,y data\n",
    "    \n",
    "    inputs:\n",
    "    x = input x value array\n",
    "    y = input y value array\n",
    "    from_epsg = source epsg code for our x,y points\n",
    "    to_epsg = destination epsg code for our points\n",
    "    always_xy = boolean, whether or not input points are always in x,y order\n",
    "    \n",
    "    returns:\n",
    "    fx = x points projected from_epsg to_epsg\n",
    "    fy = y points projected from_epsg to_epsg\n",
    "    \"\"\"\n",
    "    tform = pyproj.Transformer.from_crs(crs_from=from_epsg, crs_to=to_epsg, always_xy=always_xy)\n",
    "    fx, fy = tform.transform(x, y)\n",
    "    return fx,fy"
   ]
  },
  {
   "cell_type": "code",
   "execution_count": 15,
   "metadata": {},
   "outputs": [
    {
     "data": {
      "text/html": [
       "<div>\n",
       "<style scoped>\n",
       "    .dataframe tbody tr th:only-of-type {\n",
       "        vertical-align: middle;\n",
       "    }\n",
       "\n",
       "    .dataframe tbody tr th {\n",
       "        vertical-align: top;\n",
       "    }\n",
       "\n",
       "    .dataframe thead th {\n",
       "        text-align: right;\n",
       "    }\n",
       "</style>\n",
       "<table border=\"1\" class=\"dataframe\">\n",
       "  <thead>\n",
       "    <tr style=\"text-align: right;\">\n",
       "      <th></th>\n",
       "      <th>track</th>\n",
       "      <th>trace</th>\n",
       "      <th>lon</th>\n",
       "      <th>lat</th>\n",
       "      <th>elev</th>\n",
       "      <th>srf_sample</th>\n",
       "      <th>srf_twtt</th>\n",
       "      <th>srf_elev</th>\n",
       "      <th>srf_amp</th>\n",
       "      <th>bed_sample</th>\n",
       "      <th>bed_twtt</th>\n",
       "      <th>bed_elev</th>\n",
       "      <th>bed_amp</th>\n",
       "      <th>srf_bed_thick</th>\n",
       "    </tr>\n",
       "  </thead>\n",
       "  <tbody>\n",
       "    <tr>\n",
       "      <th>0</th>\n",
       "      <td>IRUAFHF1B_20130322-212017</td>\n",
       "      <td>0</td>\n",
       "      <td>-142.593122</td>\n",
       "      <td>60.517265</td>\n",
       "      <td>1688.795957</td>\n",
       "      <td>NaN</td>\n",
       "      <td>NaN</td>\n",
       "      <td>-9999.0</td>\n",
       "      <td>NaN</td>\n",
       "      <td>NaN</td>\n",
       "      <td>NaN</td>\n",
       "      <td>NaN</td>\n",
       "      <td>NaN</td>\n",
       "      <td>NaN</td>\n",
       "    </tr>\n",
       "    <tr>\n",
       "      <th>1</th>\n",
       "      <td>IRUAFHF1B_20130322-212017</td>\n",
       "      <td>1</td>\n",
       "      <td>-142.592724</td>\n",
       "      <td>60.517679</td>\n",
       "      <td>1693.179930</td>\n",
       "      <td>NaN</td>\n",
       "      <td>NaN</td>\n",
       "      <td>-9999.0</td>\n",
       "      <td>NaN</td>\n",
       "      <td>NaN</td>\n",
       "      <td>NaN</td>\n",
       "      <td>NaN</td>\n",
       "      <td>NaN</td>\n",
       "      <td>NaN</td>\n",
       "    </tr>\n",
       "    <tr>\n",
       "      <th>2</th>\n",
       "      <td>IRUAFHF1B_20130322-212017</td>\n",
       "      <td>2</td>\n",
       "      <td>-142.592339</td>\n",
       "      <td>60.518098</td>\n",
       "      <td>1697.129911</td>\n",
       "      <td>NaN</td>\n",
       "      <td>NaN</td>\n",
       "      <td>-9999.0</td>\n",
       "      <td>NaN</td>\n",
       "      <td>NaN</td>\n",
       "      <td>NaN</td>\n",
       "      <td>NaN</td>\n",
       "      <td>NaN</td>\n",
       "      <td>NaN</td>\n",
       "    </tr>\n",
       "    <tr>\n",
       "      <th>3</th>\n",
       "      <td>IRUAFHF1B_20130322-212017</td>\n",
       "      <td>3</td>\n",
       "      <td>-142.591970</td>\n",
       "      <td>60.518523</td>\n",
       "      <td>1701.091887</td>\n",
       "      <td>NaN</td>\n",
       "      <td>NaN</td>\n",
       "      <td>-9999.0</td>\n",
       "      <td>NaN</td>\n",
       "      <td>NaN</td>\n",
       "      <td>NaN</td>\n",
       "      <td>NaN</td>\n",
       "      <td>NaN</td>\n",
       "      <td>NaN</td>\n",
       "    </tr>\n",
       "    <tr>\n",
       "      <th>4</th>\n",
       "      <td>IRUAFHF1B_20130322-212017</td>\n",
       "      <td>4</td>\n",
       "      <td>-142.591618</td>\n",
       "      <td>60.518954</td>\n",
       "      <td>1704.951864</td>\n",
       "      <td>NaN</td>\n",
       "      <td>NaN</td>\n",
       "      <td>-9999.0</td>\n",
       "      <td>NaN</td>\n",
       "      <td>NaN</td>\n",
       "      <td>NaN</td>\n",
       "      <td>NaN</td>\n",
       "      <td>NaN</td>\n",
       "      <td>NaN</td>\n",
       "    </tr>\n",
       "  </tbody>\n",
       "</table>\n",
       "</div>"
      ],
      "text/plain": [
       "                       track  trace         lon        lat         elev  \\\n",
       "0  IRUAFHF1B_20130322-212017      0 -142.593122  60.517265  1688.795957   \n",
       "1  IRUAFHF1B_20130322-212017      1 -142.592724  60.517679  1693.179930   \n",
       "2  IRUAFHF1B_20130322-212017      2 -142.592339  60.518098  1697.129911   \n",
       "3  IRUAFHF1B_20130322-212017      3 -142.591970  60.518523  1701.091887   \n",
       "4  IRUAFHF1B_20130322-212017      4 -142.591618  60.518954  1704.951864   \n",
       "\n",
       "   srf_sample  srf_twtt  srf_elev  srf_amp  bed_sample  bed_twtt  bed_elev  \\\n",
       "0         NaN       NaN   -9999.0      NaN         NaN       NaN       NaN   \n",
       "1         NaN       NaN   -9999.0      NaN         NaN       NaN       NaN   \n",
       "2         NaN       NaN   -9999.0      NaN         NaN       NaN       NaN   \n",
       "3         NaN       NaN   -9999.0      NaN         NaN       NaN       NaN   \n",
       "4         NaN       NaN   -9999.0      NaN         NaN       NaN       NaN   \n",
       "\n",
       "   bed_amp  srf_bed_thick  \n",
       "0      NaN            NaN  \n",
       "1      NaN            NaN  \n",
       "2      NaN            NaN  \n",
       "3      NaN            NaN  \n",
       "4      NaN            NaN  "
      ]
     },
     "execution_count": 15,
     "metadata": {},
     "output_type": "execute_result"
    }
   ],
   "source": [
    "### params ###\n",
    "dpath = \"C:/Users/btober/OneDrive/Documents/tmp/\"\n",
    "dpath = \"C:/Users/btober/OneDrive/Documents/data/radar/IRUAFHF1B/pick/\"\n",
    "\n",
    "# df = pd.read_csv(dpath + 'ruth_picks.csv')  \n",
    "df = pd.read_csv(dpath + 'IRUAFHF1B_pick_bst.csv')\n",
    "df.head()"
   ]
  },
  {
   "cell_type": "code",
   "execution_count": 16,
   "metadata": {},
   "outputs": [],
   "source": [
    "# filter out any nulls\n",
    "# df = df[df.h.notnull()]\n",
    "df = df[df.bed_sample.notnull()]\n",
    "# df = df[df.z.notnull()]"
   ]
  },
  {
   "cell_type": "code",
   "execution_count": 17,
   "metadata": {},
   "outputs": [],
   "source": [
    "# project wgs84 lat lon to epsg 3338 x,y\n",
    "df[\"X\"], df[\"Y\"] = project_array(df.lon.values, df.lat.values, from_epsg=4326, to_epsg=3338)"
   ]
  },
  {
   "cell_type": "markdown",
   "metadata": {},
   "source": [
    "Need to split up points for a given track based on the trace interval.\n",
    "\n",
    "If the difference betweeen consecutive traces in the dataframe is greater than 1, we want to create a new linesegment"
   ]
  },
  {
   "cell_type": "code",
   "execution_count": 18,
   "metadata": {},
   "outputs": [
    {
     "name": "stderr",
     "output_type": "stream",
     "text": [
      "c:\\Users\\btober\\anaconda3\\envs\\py3\\lib\\site-packages\\pandas\\core\\generic.py:5516: SettingWithCopyWarning: \n",
      "A value is trying to be set on a copy of a slice from a DataFrame.\n",
      "Try using .loc[row_indexer,col_indexer] = value instead\n",
      "\n",
      "See the caveats in the documentation: https://pandas.pydata.org/pandas-docs/stable/user_guide/indexing.html#returning-a-view-versus-a-copy\n",
      "  self[name] = value\n"
     ]
    }
   ],
   "source": [
    "# # create new df\n",
    "df2 = pd.DataFrame()\n",
    "\n",
    "# get unique track names\n",
    "tracks = df.track.unique()\n",
    "\n",
    "# loop through tracks and split points by trace chunks - where diff of trace is greater than 1\n",
    "for t in tracks:\n",
    "    # print(t)\n",
    "    subdf = df[df.track == t]\n",
    "    # ensure we're sorted by increasing trace value\n",
    "    subdf = subdf.sort_values(by=['trace'],ignore_index=True)\n",
    "    # get along track difference in trace index\n",
    "    diff = np.diff(subdf.trace)\n",
    "    # find where difference in trace value is greater than 1\n",
    "    idx = np.where(diff > 1)\n",
    "    # determine how many chunks in track based on trace diff. nchunks will be idx[0].shape[0]+1 (one split means two subsections, etc.)\n",
    "    nchunks = idx[0].shape[0] + 1\n",
    "\n",
    "    # now iterate and split subsections if there's more than 1 chunk\n",
    "    if nchunks > 1:\n",
    "        # print(t)\n",
    "        # plt.figure()\n",
    "        # plt.plot(diff,'.')\n",
    "        for i in range(nchunks):\n",
    "            # print(traces.iloc[idx[0][i]-1], traces.iloc[idx[0][i]], traces.iloc[idx[0][i]+1])\n",
    "            if i == 0:\n",
    "                start = 0\n",
    "                stop = idx[0][i]\n",
    "\n",
    "            elif i >= 1:\n",
    "                start = idx[0][i - 1] + 1\n",
    "                if i == nchunks-1:\n",
    "                    stop = subdf.index[-1]\n",
    "                else:\n",
    "                    stop = idx[0][i]\n",
    "\n",
    "            # add subset to gpd as with new track id\n",
    "            # print(start,stop)\n",
    "            # print(subdf.trace.iloc[start],subdf.trace.iloc[stop])\n",
    "            sub = subdf.iloc[start:stop]\n",
    "            sub.track = t + '_' + str(i)\n",
    "            df2 = df2.append(sub)\n",
    "            \n",
    "    else:\n",
    "        df2 = df2.append(subdf)    "
   ]
  },
  {
   "cell_type": "code",
   "execution_count": 19,
   "metadata": {},
   "outputs": [],
   "source": [
    "# convert points in each track to linestring grouped by track\n",
    "# zip the coordinates into a point object and convert to a shapely geodataframe\n",
    "geometry = [Point(xy) for xy in zip(df.X, df.Y)]\n",
    "gdf = gpd.GeoDataFrame(df, geometry=geometry)\n",
    "\n",
    "geometry = [Point(xy) for xy in zip(df2.X, df2.Y)]\n",
    "gdf2 = gpd.GeoDataFrame(df2, geometry=geometry)\n",
    "\n",
    "# aggregate points by track using groupby and set as a linestring\n",
    "gdf = gdf.groupby([\"track\"])[\"geometry\"].apply(lambda x: LineString(x.tolist()))\n",
    "gdf = gpd.GeoDataFrame(gdf, geometry=\"geometry\")\n",
    "gdf2 = gdf2.groupby([\"track\"])[\"geometry\"].apply(lambda x: LineString(x.tolist()))\n",
    "gdf2 = gpd.GeoDataFrame(gdf2, geometry=\"geometry\")"
   ]
  },
  {
   "cell_type": "code",
   "execution_count": 20,
   "metadata": {},
   "outputs": [
    {
     "name": "stdout",
     "output_type": "stream",
     "text": [
      "acquired radar data length 1753.733 line-km\n",
      "picked radar data length 1350.697 line-km\n"
     ]
    }
   ],
   "source": [
    "print(f'acquired radar data length {round(np.sum(gdf.length)*1e-3,3)} line-km') \n",
    "print(f'picked radar data length {round(np.sum(gdf2.length)*1e-3,3)} line-km') "
   ]
  },
  {
   "cell_type": "code",
   "execution_count": 21,
   "metadata": {},
   "outputs": [
    {
     "data": {
      "text/plain": [
       "<matplotlib.legend.Legend at 0x210e0b4ff40>"
      ]
     },
     "execution_count": 21,
     "metadata": {},
     "output_type": "execute_result"
    },
    {
     "data": {
      "image/png": "[encoded data removed]",
      "text/plain": [
       "<Figure size 720x720 with 1 Axes>"
      ]
     },
     "metadata": {
      "needs_background": "light"
     },
     "output_type": "display_data"
    }
   ],
   "source": [
    "fig, ax = plt.subplots(1,figsize=(10,10))\n",
    "\n",
    "for i in gdf.geometry:\n",
    "    ln0, = ax.plot(*i.xy, 'k', lw=4)\n",
    "\n",
    "for i in gdf2.geometry:\n",
    "    ln1, = ax.plot(*i.xy, 'r')\n",
    "ax.set_aspect('equal')\n",
    "ax.legend(handles=[ln0,ln1], labels=['acquired','picked'])\n"
   ]
  },
  {
   "cell_type": "code",
   "execution_count": null,
   "metadata": {},
   "outputs": [],
   "source": []
  }
 ],
 "metadata": {
  "kernelspec": {
   "display_name": "Python 3.9.7 ('py3')",
   "language": "python",
   "name": "python3"
  },
  "language_info": {
   "codemirror_mode": {
    "name": "ipython",
    "version": 3
   },
   "file_extension": ".py",
   "mimetype": "text/x-python",
   "name": "python",
   "nbconvert_exporter": "python",
   "pygments_lexer": "ipython3",
   "version": "3.9.7"
  },
  "orig_nbformat": 4,
  "vscode": {
   "interpreter": {
    "hash": "f7ca193a9b9b2edf99a2f55446d73258d061553cf7f16ffaf2fd0b55d43c7597"
   }
  }
 },
 "nbformat": 4,
 "nbformat_minor": 2
}
