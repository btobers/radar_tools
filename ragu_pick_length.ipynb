{
 "cells": [
  {
   "cell_type": "markdown",
   "metadata": {},
   "source": [
    "# RAGU radar pick length calculator\n",
    "Notebook designed to calculate the length of radar data interpreted and uninterpreted.\n",
    "\n",
    "RAGU pick files may contain arrays for a particular track which have picks along subsections of that track.\n",
    "\n",
    "Therefore, calculating the total length of all line segments will over-estimate the length of picked data.\n",
    "\n",
    "Here, we split up tracks based on the trace increment and then calculate the length of measurements in line-km.\n",
    "\n",
    "BST 20221206\n",
    "\n",
    "\n",
    "### psuedocode ###\n",
    "1. read in dataset containing RAGU radar picks\n",
    "    a. remove nulls where no picks were made\n",
    "2. break up each track into subsections based on the trace increment\n",
    "    a. if the along-track trace increment is greater than 1, split track measurements into n chunks\n",
    "3. create geodataframe and make linestring from points\n",
    "4. calculate measurement distance"
   ]
  },
  {
   "cell_type": "code",
   "execution_count": 10,
   "metadata": {},
   "outputs": [],
   "source": [
    "### impots ###\n",
    "import sys, os, itertools\n",
    "import numpy as np\n",
    "import pandas as pd\n",
    "import pyproj\n",
    "import geopandas as gpd\n",
    "from shapely.geometry import Point, LineString\n",
    "import matplotlib.pyplot as plt\n",
    "import matplotlib.colors as colors\n",
    "import matplotlib.patches as mpatches\n",
    "\n",
    "%matplotlib inline\n",
    "plt.rcParams[\"font.family\"] = \"Calibri\"\n",
    "plt.rcParams['font.size'] = 8\n",
    "plt.rcParams['legend.fontsize'] = 8\n",
    "pd.set_option('display.max_rows', 500)"
   ]
  },
  {
   "cell_type": "code",
   "execution_count": 11,
   "metadata": {},
   "outputs": [
    {
     "data": {
      "text/html": [
       "<div>\n",
       "<style scoped>\n",
       "    .dataframe tbody tr th:only-of-type {\n",
       "        vertical-align: middle;\n",
       "    }\n",
       "\n",
       "    .dataframe tbody tr th {\n",
       "        vertical-align: top;\n",
       "    }\n",
       "\n",
       "    .dataframe thead th {\n",
       "        text-align: right;\n",
       "    }\n",
       "</style>\n",
       "<table border=\"1\" class=\"dataframe\">\n",
       "  <thead>\n",
       "    <tr style=\"text-align: right;\">\n",
       "      <th></th>\n",
       "      <th>X</th>\n",
       "      <th>Y</th>\n",
       "      <th>track</th>\n",
       "      <th>trace</th>\n",
       "      <th>lon</th>\n",
       "      <th>lat</th>\n",
       "      <th>elev</th>\n",
       "      <th>z</th>\n",
       "      <th>h</th>\n",
       "    </tr>\n",
       "  </thead>\n",
       "  <tbody>\n",
       "    <tr>\n",
       "      <th>0</th>\n",
       "      <td>614413.558583</td>\n",
       "      <td>6.985239e+06</td>\n",
       "      <td>20220501_212721</td>\n",
       "      <td>248</td>\n",
       "      <td>-150.74250</td>\n",
       "      <td>62.978830</td>\n",
       "      <td>1612.5896</td>\n",
       "      <td>1173.413422</td>\n",
       "      <td>439.176177</td>\n",
       "    </tr>\n",
       "    <tr>\n",
       "      <th>1</th>\n",
       "      <td>614415.350567</td>\n",
       "      <td>6.985246e+06</td>\n",
       "      <td>20220501_212721</td>\n",
       "      <td>249</td>\n",
       "      <td>-150.74246</td>\n",
       "      <td>62.978890</td>\n",
       "      <td>1612.2338</td>\n",
       "      <td>1168.834740</td>\n",
       "      <td>443.399025</td>\n",
       "    </tr>\n",
       "    <tr>\n",
       "      <th>2</th>\n",
       "      <td>614416.721927</td>\n",
       "      <td>6.985250e+06</td>\n",
       "      <td>20220501_212721</td>\n",
       "      <td>250</td>\n",
       "      <td>-150.74243</td>\n",
       "      <td>62.978928</td>\n",
       "      <td>1611.9841</td>\n",
       "      <td>1164.362258</td>\n",
       "      <td>447.621873</td>\n",
       "    </tr>\n",
       "    <tr>\n",
       "      <th>3</th>\n",
       "      <td>614417.079966</td>\n",
       "      <td>6.985254e+06</td>\n",
       "      <td>20220501_212721</td>\n",
       "      <td>251</td>\n",
       "      <td>-150.74242</td>\n",
       "      <td>62.978966</td>\n",
       "      <td>1611.7542</td>\n",
       "      <td>1159.909430</td>\n",
       "      <td>451.844721</td>\n",
       "    </tr>\n",
       "    <tr>\n",
       "      <th>4</th>\n",
       "      <td>614417.929016</td>\n",
       "      <td>6.985259e+06</td>\n",
       "      <td>20220501_212721</td>\n",
       "      <td>252</td>\n",
       "      <td>-150.74240</td>\n",
       "      <td>62.979008</td>\n",
       "      <td>1611.6509</td>\n",
       "      <td>1155.583310</td>\n",
       "      <td>456.067569</td>\n",
       "    </tr>\n",
       "  </tbody>\n",
       "</table>\n",
       "</div>"
      ],
      "text/plain": [
       "               X             Y            track  trace        lon        lat  \\\n",
       "0  614413.558583  6.985239e+06  20220501_212721    248 -150.74250  62.978830   \n",
       "1  614415.350567  6.985246e+06  20220501_212721    249 -150.74246  62.978890   \n",
       "2  614416.721927  6.985250e+06  20220501_212721    250 -150.74243  62.978928   \n",
       "3  614417.079966  6.985254e+06  20220501_212721    251 -150.74242  62.978966   \n",
       "4  614417.929016  6.985259e+06  20220501_212721    252 -150.74240  62.979008   \n",
       "\n",
       "        elev            z           h  \n",
       "0  1612.5896  1173.413422  439.176177  \n",
       "1  1612.2338  1168.834740  443.399025  \n",
       "2  1611.9841  1164.362258  447.621873  \n",
       "3  1611.7542  1159.909430  451.844721  \n",
       "4  1611.6509  1155.583310  456.067569  "
      ]
     },
     "execution_count": 11,
     "metadata": {},
     "output_type": "execute_result"
    }
   ],
   "source": [
    "### params ###\n",
    "dpath = \"C:/Users/btober/OneDrive/Documents/tmp/\"\n",
    "df = pd.read_csv(dpath + 'ruth_picks.csv')  \n",
    "df.head()"
   ]
  },
  {
   "cell_type": "code",
   "execution_count": 12,
   "metadata": {},
   "outputs": [],
   "source": [
    "# filter out any nulls\n",
    "df = df[df.h.notnull()]\n",
    "df = df[df.z.notnull()]"
   ]
  },
  {
   "cell_type": "markdown",
   "metadata": {},
   "source": [
    "Need to split up points for a given track based on the trace interval.\n",
    "\n",
    "If the difference betweeen consecutive traces in the dataframe is greater than 1, we want to create a new linesegment"
   ]
  },
  {
   "cell_type": "code",
   "execution_count": 14,
   "metadata": {},
   "outputs": [],
   "source": [
    "# # create new df\n",
    "df2 = pd.DataFrame()\n",
    "\n",
    "# get unique track names\n",
    "tracks = df.track.unique()\n",
    "\n",
    "# loop through tracks and split points by trace chunks - where diff of trace is greater than 1\n",
    "for t in tracks:\n",
    "    # print(t)\n",
    "    subdf = df[df.track == t]\n",
    "    # ensure we're sorted by increasing trace value\n",
    "    subdf = subdf.sort_values(by=['trace'],ignore_index=True)\n",
    "    # get along track difference in trace index\n",
    "    diff = np.diff(subdf.trace)\n",
    "    # find where difference in trace value is greater than 1\n",
    "    idx = np.where(diff > 1)\n",
    "    # determine how many chunks in track based on trace diff. nchunks will be idx[0].shape[0]+1 (one split means two subsections, etc.)\n",
    "    nchunks = idx[0].shape[0] + 1\n",
    "\n",
    "    # now iterate and split subsections if there's more than 1 chunk\n",
    "    if nchunks > 1:\n",
    "        # print(t)\n",
    "        # plt.figure()\n",
    "        # plt.plot(diff,'.')\n",
    "        for i in range(nchunks):\n",
    "            # print(traces.iloc[idx[0][i]-1], traces.iloc[idx[0][i]], traces.iloc[idx[0][i]+1])\n",
    "            if i == 0:\n",
    "                start = 0\n",
    "                stop = idx[0][i]\n",
    "\n",
    "            elif i >= 1:\n",
    "                start = idx[0][i - 1] + 1\n",
    "                if i == nchunks-1:\n",
    "                    stop = subdf.index[-1]\n",
    "                else:\n",
    "                    stop = idx[0][i]\n",
    "\n",
    "            # add subset to gpd as with new track id\n",
    "            # print(start,stop)\n",
    "            # print(subdf.trace.iloc[start],subdf.trace.iloc[stop])\n",
    "            sub = subdf.iloc[start:stop]\n",
    "            sub.track = t + '_' + str(i)\n",
    "            df2 = df2.append(sub)\n",
    "            \n",
    "    else:\n",
    "        df2 = df2.append(subdf)    "
   ]
  },
  {
   "cell_type": "code",
   "execution_count": 19,
   "metadata": {},
   "outputs": [],
   "source": [
    "# convert points in each track to linestring grouped by track\n",
    "# zip the coordinates into a point object and convert to a shapely geodataframe\n",
    "geometry = [Point(xy) for xy in zip(df.X, df.Y)]\n",
    "gdf = gpd.GeoDataFrame(df, geometry=geometry)\n",
    "\n",
    "geometry = [Point(xy) for xy in zip(df2.X, df2.Y)]\n",
    "gdf2 = gpd.GeoDataFrame(df2, geometry=geometry)\n",
    "\n",
    "# aggregate points by track using groupby and set as a linestring\n",
    "gdf = gdf.groupby([\"track\"])[\"geometry\"].apply(lambda x: LineString(x.tolist()))\n",
    "gdf = gpd.GeoDataFrame(gdf, geometry=\"geometry\")\n",
    "gdf2 = gdf2.groupby([\"track\"])[\"geometry\"].apply(lambda x: LineString(x.tolist()))\n",
    "gdf2 = gpd.GeoDataFrame(gdf2, geometry=\"geometry\")"
   ]
  },
  {
   "cell_type": "code",
   "execution_count": 20,
   "metadata": {},
   "outputs": [
    {
     "name": "stdout",
     "output_type": "stream",
     "text": [
      "acquired radar data length 54.785 line-km\n",
      "picked radar data length 49.98 line-km\n"
     ]
    }
   ],
   "source": [
    "print(f'acquired radar data length {round(np.sum(gdf.length)*1e-3,3)} line-km') \n",
    "print(f'picked radar data length {round(np.sum(gdf2.length)*1e-3,3)} line-km') "
   ]
  },
  {
   "cell_type": "code",
   "execution_count": 22,
   "metadata": {},
   "outputs": [
    {
     "data": {
      "image/png": "[encoded data removed]",
      "text/plain": [
       "<Figure size 720x720 with 1 Axes>"
      ]
     },
     "metadata": {
      "needs_background": "light"
     },
     "output_type": "display_data"
    }
   ],
   "source": [
    "fig, ax = plt.subplots(1,figsize=(10,10))\n",
    "\n",
    "for i in gdf.geometry:\n",
    "    ax.plot(*i.xy, 'k')\n",
    "\n",
    "for i in gdf2.geometry:\n",
    "    ax.plot(*i.xy, 'r')\n",
    "ax.set_aspect('equal')\n"
   ]
  }
 ],
 "metadata": {
  "kernelspec": {
   "display_name": "Python 3.9.7 ('py3')",
   "language": "python",
   "name": "python3"
  },
  "language_info": {
   "codemirror_mode": {
    "name": "ipython",
    "version": 3
   },
   "file_extension": ".py",
   "mimetype": "text/x-python",
   "name": "python",
   "nbconvert_exporter": "python",
   "pygments_lexer": "ipython3",
   "version": "3.9.7"
  },
  "orig_nbformat": 4,
  "vscode": {
   "interpreter": {
    "hash": "f7ca193a9b9b2edf99a2f55446d73258d061553cf7f16ffaf2fd0b55d43c7597"
   }
  }
 },
 "nbformat": 4,
 "nbformat_minor": 2
}
