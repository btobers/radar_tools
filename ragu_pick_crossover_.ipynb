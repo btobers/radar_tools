{
 "cells": [
  {
   "cell_type": "markdown",
   "metadata": {},
   "source": [
    "# OIB Radar Crossover Analysis \n",
    "Notebook designed to analyze crossover disagreement in measurements between crossing radar tracks\n",
    "\n",
    "At each intersecting radar profile where an interpretation has been made we have a measurement of (i.) surface elevation, (ii.) bed elevation, (iii.) ice thickness, (iv.) surface amplitude, and (v.) bed amplitude. We can compare all of these values at each radar profile intersection to analyze the disagreements in our dataset.\n",
    "\n",
    "This loosely follows the methods of Herkommer and Whitney, 1994\n",
    "\n",
    "BST 20211123\n",
    "\n",
    "\n",
    "### psuedocode ###\n",
    "1. read in dataset containing RAGU radar picks\n",
    "2. find all intersection points for all radar profiles in our dataset\n",
    "    2a. our dataset contains points corresponding to each \"trace\" in all of our radar profiles where interpretations have been made. in order to find the intersection between all our radar profiles we'll take advantage of shapely's intersection method - this requires us to first convert all points in each profile to individual linestrings\n",
    "4. filter out intersections where the closest two points are above a threshold distance\n",
    "3. intersections won't fall directly where we have measurements. So we'll linearly interpolate measurements at the two closest points surrounding our intersection for each profile\n",
    "4. build a statistical dataset with difference in the measurements of interest between tracks at each intersection"
   ]
  },
  {
   "cell_type": "code",
   "execution_count": 6,
   "metadata": {},
   "outputs": [],
   "source": [
    "### impots ###\n",
    "import sys, os, itertools, math\n",
    "import numpy as np\n",
    "import pandas as pd\n",
    "import geopandas as gpd\n",
    "from scipy import spatial\n",
    "import pyproj\n",
    "from geopandas import GeoDataFrame\n",
    "from shapely.geometry import Point, LineString\n",
    "from datetime import datetime\n",
    "import matplotlib.pyplot as plt\n",
    "import matplotlib.colors as colors\n",
    "import matplotlib.patches as mpatches\n",
    "\n",
    "%matplotlib inline\n",
    "plt.rcParams[\"font.family\"] = \"Calibri\"\n",
    "plt.rcParams['font.size'] = 8\n",
    "plt.rcParams['legend.fontsize'] = 8\n",
    "pd.set_option('display.max_rows', 500)"
   ]
  },
  {
   "cell_type": "code",
   "execution_count": 7,
   "metadata": {},
   "outputs": [],
   "source": [
    "### function declarations ###\n",
    "\n",
    "def project_array(x=None, y=None, from_epsg=4326, to_epsg=3338, always_xy=True):\n",
    "    \"\"\"\n",
    "    use pyproj to project our x,y data\n",
    "    \n",
    "    inputs:\n",
    "    x = input x value array\n",
    "    y = input y value array\n",
    "    from_epsg = source epsg code for our x,y points\n",
    "    to_epsg = destination epsg code for our points\n",
    "    always_xy = boolean, whether or not input points are always in x,y order\n",
    "    \n",
    "    returns:\n",
    "    fx = x points projected from_epsg to_epsg\n",
    "    fy = y points projected from_epsg to_epsg\n",
    "    \"\"\"\n",
    "    tform = pyproj.Transformer.from_crs(crs_from=from_epsg, crs_to=to_epsg, always_xy=always_xy)\n",
    "    fx, fy = tform.transform(x, y)\n",
    "    return fx,fy\n",
    "\n",
    "\n",
    "def get_bearing(lat1, long1, lat2, long2):\n",
    "    \"\"\"\n",
    "    calculate bearing in degrees between two points\n",
    "    \"\"\"\n",
    "    dLon = (long2 - long1)\n",
    "    x = math.cos(math.radians(lat2)) * math.sin(math.radians(dLon))\n",
    "    y = math.cos(math.radians(lat1)) * math.sin(math.radians(lat2)) - math.sin(math.radians(lat1)) * math.cos(math.radians(lat2)) * math.cos(math.radians(dLon))\n",
    "    brng = np.arctan2(x,y)\n",
    "    brng = np.degrees(brng)\n",
    "    brng = (brng + 180) % 180 \n",
    "    if brng == 0:\n",
    "        brng = np.nan\n",
    "\n",
    "    return brng\n",
    "\n",
    "\n",
    "def euclid_dist(px, py, xarray, yarray):\n",
    "  \"\"\"\n",
    "  calculate euclidean distance from all points in an xy array pair to a particular point\n",
    "\n",
    "    inputs:\n",
    "    px = float\n",
    "    py = float\n",
    "    xarray = Nx1 array containing x values\n",
    "    yarray= Nx1 array containing y values\n",
    "    \n",
    "    returns:\n",
    "    m = Nx1 array containing distance from all lon,lat points to point px,py\n",
    "    \n",
    "    example call:\n",
    "    distance_array = euclid_distance(px=, py=, lonarray=[], latarray=[])\n",
    "\n",
    "  \"\"\"\n",
    "  distance = np.sqrt( (xarray - px)**2 + (yarray - py)**2 )\n",
    "  return distance\n",
    "\n",
    "\n",
    "R = 6367000     # earth's radius in meters\n",
    "\n",
    "def haversinedist_point_array(plon, plat, lonarray, latarray):\n",
    "    \"\"\"\n",
    "    calculate the great circle distance from all points in an array to a specified point on earth's surface.\n",
    "    locations specified in decimal degrees.\n",
    "    \n",
    "    modified from : https://stackoverflow.com/questions/4913349/haversine-formula-in-python-bearing-and-distance-between-two-gps-points\n",
    "    \n",
    "    inputs:\n",
    "    plon = float\n",
    "    plat = float\n",
    "    lonarray = Nx1 array containing longitude values\n",
    "    latarray= Nx1 array containing latitude values\n",
    "    \n",
    "    returns:\n",
    "    m = Nx1 array containing distance from all lon,lat points to point plon,plat\n",
    "    \n",
    "    example call:\n",
    "    distance_array = haversinedist_point_array(plon=-140.5, plat=90.5, lonarray=[-140.1,-140.7,-141.2], latarray=[61.2,60.3,60.7])\n",
    "    \"\"\"\n",
    "    plon, plat, lonarray, latarray = map(np.radians, [plon, plat, lonarray, latarray])  # map lat, lon to radians\n",
    "\n",
    "    dlon = lonarray - plon\n",
    "    dlat = latarray - plat\n",
    "\n",
    "    a = np.sin(dlat/2.0)**2 + np.cos(plat) * np.cos(latarray) * np.sin(dlon/2.0)**2\n",
    "\n",
    "    c = 2 * np.arcsin(np.sqrt(a))\n",
    "    m = R * c\n",
    "    return m\n",
    "\n",
    "\n",
    "\n",
    "def track_crossings(lines):\n",
    "    \"\"\" \n",
    "    create list of all intersecting objects.\n",
    "    \n",
    "    we need to take in linestrings formed from points (traces) along each radar profile in our dataset and find all the intersecting lines.\n",
    "    \n",
    "    we'll use shapely's intersection method for this purpose. ultimately what we want to return is a list contianing the location of each \n",
    "    crossing and the profiles participating in said crossing.\n",
    "    \n",
    "    input: \n",
    "    lines = list containing the name of each radar profile followed by a shapely linestring formed by all points in said profile\n",
    "    \n",
    "    returns:\n",
    "    crossings = list containing the name of each set of intersecting radar profiles and the shapely point corresponding to their intersection\n",
    "    \"\"\"\n",
    "    crossings = []\n",
    "    for line1,line2 in  itertools.combinations(lines, 2):\n",
    "        if  line1[1].intersects(line2[1]):\n",
    "            crossing = line1[1].intersection(line2[1])\n",
    "            if \"Point\" == crossing.type:\n",
    "                crossings.append([line1[0],line2[0],crossing])\n",
    "            elif \"MultiPoint\" == crossing.type:\n",
    "                for pt in crossing:\n",
    "                    crossings.append([line1[0],line2[0],pt])\n",
    "            elif \"MultiLineString\" == crossing.type:\n",
    "                multiLine = [line for line in crossing]\n",
    "                first_coords = multiLine[0].coords[0]\n",
    "                last_coords = multiLine[len(multiLine)-1].coords[1]\n",
    "                crossings.append([line1[0],Point(first_coords[0], first_coords[1])])\n",
    "                crossings.append([line2[0],Point(last_coords[0], last_coords[1])])\n",
    "    return crossings\n",
    "\n",
    "def interp3d(x1, y1, z1, x2, y2, z2 , x, y):\n",
    "    \"\"\"\n",
    "    since we won't actually have measurements directly at each intersection point between radar profiles, we'll need to interpolate from our closes measurements\n",
    "    \n",
    "    we'll use trilinear interpolation to get our value of interest between two 3d points\n",
    "    \n",
    "    essentially, we have two x,y,z points surrounding our intersection location where we know x,y and need z\n",
    "    \n",
    "    note: i'm thinking our locations should be in projected crs for this, which they currently are not\n",
    "    \n",
    "    inputs:\n",
    "    x1 = x location 1\n",
    "    y1 = y loation 1\n",
    "    z1 = z location 1\n",
    "    x2 = x location 2\n",
    "    y2 = y loation 2\n",
    "    z2 = z location 2\n",
    "    x = x location at intersection\n",
    "    y = y location at intersection\n",
    "    \n",
    "    returns:\n",
    "    z = interpolated z value at location x,y\n",
    "    \"\"\"\n",
    "    if (x1==x2) & (y1==y2):\n",
    "        z = (z1+z2)/2\n",
    "    else:\n",
    "        b1 = np.sqrt((x2 - x1)**2 + (y2 - y1 )**2)  # hypot between given x and y points\n",
    "        b2 = np.sqrt((x - x1)**2 + (y - y1)**2)     # hypot between first x and y point and point of interest\n",
    "        z =   z1 + b2*(z2 - z1) / b1                # calculate z value at point of interest\n",
    "\n",
    "    return z\n",
    "\n",
    "\n",
    "# build dataset comparing measured values at each intersection\n",
    "def comp_crossings(picks_df, crossings_list, thresh_dist, thresh_brng=45):\n",
    "\n",
    "    rem_idx = []        # indices of crossings list elements to remove if distance between closes points to  intersection are above threshold\n",
    "    # initialize arrays to hold interpolated values\n",
    "    x_arr = np.array(())\n",
    "    y_arr = np.array(())\n",
    "    track0_arr = np.array(())\n",
    "    track1_arr = np.array(())\n",
    "    zsrf0_arr = np.array(())\n",
    "    zsrf1_arr = np.array(())\n",
    "    zbed0_arr = np.array(())\n",
    "    zbed1_arr = np.array(())\n",
    "    thick0_arr = np.array(())\n",
    "    thick1_arr = np.array(())\n",
    "    brng0_arr = np.array(())\n",
    "    brng1_arr = np.array(())\n",
    "    beddb0_arr = np.array(())\n",
    "    beddb1_arr = np.array(())\n",
    "\n",
    "    # loop through crossings\n",
    "    for _i, crossing in enumerate(crossings_list):\n",
    "        pt = crossing[2]\n",
    "        df_sub0 = picks_df[picks_df[\"track\"]==crossing[0]]\n",
    "        df_sub1 = picks_df[picks_df[\"track\"]==crossing[1]]\n",
    "        \n",
    "        # # get distance of each point in track to intersection point\n",
    "        # dist0 = haversinedist_point_array(df_sub0[\"lon\"].to_numpy(), df_sub0[\"lat\"].to_numpy(), \n",
    "        #         pt.x, pt.y)\n",
    "        # dist1 = haversinedist_point_array(df_sub1[\"lon\"].to_numpy(), df_sub1[\"lat\"].to_numpy(), \n",
    "        #         pt.x, pt.y)\n",
    "\n",
    "        # get distance of each point in track to intersection point\n",
    "        dist0 = euclid_dist(pt.x, pt.y, df_sub0[\"x\"].to_numpy(), df_sub0[\"y\"].to_numpy())\n",
    "\n",
    "        dist1 = euclid_dist(pt.x, pt.y, df_sub1[\"x\"].to_numpy(), df_sub1[\"y\"].to_numpy())\n",
    "\n",
    "        # make sure closest point to each intersection is below threshold distance specified\n",
    "        if (dist0.min() < thresh_dist) and (dist1.min() < thresh_dist):\n",
    "            # sort distances to get two closest indices\n",
    "            t0sort = np.argsort(dist0)\n",
    "            t1sort = np.argsort(dist1)\n",
    "\n",
    "            # get lon, lat, surface elev, thickness, and bed elev for two closest points to intersection for each track\n",
    "            x0 = [df_sub0[\"x\"].iloc[t0sort[0]], df_sub0[\"x\"].iloc[t0sort[1]]]\n",
    "            y0 = [df_sub0[\"y\"].iloc[t0sort[0]], df_sub0[\"y\"].iloc[t0sort[1]]]\n",
    "            zsrf0 = [df_sub0[\"srf_elev\"].iloc[t0sort[0]], df_sub0[\"srf_elev\"].iloc[t0sort[1]]]\n",
    "            zbed0 = [df_sub0[\"bed_elev\"].iloc[t0sort[0]], df_sub0[\"bed_elev\"].iloc[t0sort[1]]]\n",
    "            thick0 = [df_sub0[\"srf_bed_thick\"].iloc[t0sort[0]], df_sub0[\"srf_bed_thick\"].iloc[t0sort[1]]]\n",
    "\n",
    "            x1 = [df_sub1[\"x\"].iloc[t1sort[0]], df_sub1[\"x\"].iloc[t1sort[1]]]\n",
    "            y1 = [df_sub1[\"y\"].iloc[t1sort[0]], df_sub1[\"y\"].iloc[t1sort[1]]]\n",
    "            zsrf1 = [df_sub1[\"srf_elev\"].iloc[t1sort[0]], df_sub1[\"srf_elev\"].iloc[t1sort[1]]]\n",
    "            zbed1 = [df_sub1[\"bed_elev\"].iloc[t1sort[0]], df_sub1[\"bed_elev\"].iloc[t1sort[1]]]\n",
    "            thick1 = [df_sub1[\"srf_bed_thick\"].iloc[t1sort[0]], df_sub1[\"srf_bed_thick\"].iloc[t1sort[1]]]\n",
    "\n",
    "            # get bearing between two points surrounding intersection\n",
    "            # we don't really care about absolute direction here - so let's take absolute value to just get everything between 0 and 180\n",
    "            brng0 = get_bearing(df_sub0[\"lat\"].iloc[t0sort[0]], \n",
    "                                   df_sub0[\"lon\"].iloc[t0sort[0]], \n",
    "                                   df_sub0[\"lat\"].iloc[t0sort[1]],\n",
    "                                   df_sub0[\"lon\"].iloc[t0sort[1]])\n",
    "\n",
    "            brng1 = get_bearing(df_sub1[\"lat\"].iloc[t1sort[0]], \n",
    "                                   df_sub1[\"lon\"].iloc[t1sort[0]], \n",
    "                                   df_sub1[\"lat\"].iloc[t1sort[1]],\n",
    "                                   df_sub1[\"lon\"].iloc[t1sort[1]])\n",
    "            \n",
    "            if \"bed_db\" in picks_df:\n",
    "                # get average bed power between two closest points to intersection\n",
    "                beddb0 = np.mean([df_sub0[\"bed_db\"].iloc[t0sort[0]],df_sub0[\"bed_db\"].iloc[t0sort[1]]])\n",
    "                beddb1 = np.mean([df_sub1[\"bed_db\"].iloc[t1sort[0]],df_sub1[\"bed_db\"].iloc[t1sort[1]]])\n",
    "            else:\n",
    "                beddb0 = -9999\n",
    "                beddb1 = -9999\n",
    "\n",
    "            # get linearly interpolated values for each track at intersection point\n",
    "            zsrf0_cross = interp3d(x0[0],y0[0],zsrf0[0],x0[1],y0[1],zsrf0[1],pt.x,pt.y)\n",
    "            zbed0_cross = interp3d(x0[0],y0[0],zbed0[0],x0[1],y0[1],zbed0[1],pt.x,pt.y)\n",
    "            thick0_cross = interp3d(x0[0],y0[0],thick0[0],x0[1],y0[1],thick0[1],pt.x,pt.y)\n",
    "\n",
    "            zsrf1_cross = interp3d(x1[0],y1[0],zsrf1[0],x1[1],y1[1],zsrf1[1],pt.x,pt.y)\n",
    "            zbed1_cross = interp3d(x1[0],y1[0],zbed1[0],x1[1],y1[1],zbed1[1],pt.x,pt.y)\n",
    "            thick1_cross = interp3d(x1[0],y1[0],thick1[0],x1[1],y1[1],thick1[1],pt.x,pt.y)\n",
    "\n",
    "            if np.abs(brng0-brng1) >= thresh_brng:\n",
    "                # add values to arrays\n",
    "                x_arr = np.append(x_arr, pt.x)\n",
    "                y_arr = np.append(y_arr, pt.y)\n",
    "\n",
    "                brng0_arr = np.append(brng0_arr, brng0)\n",
    "                brng1_arr = np.append(brng1_arr, brng1)\n",
    "\n",
    "                track0_arr = np.append(track0_arr, crossing[0])\n",
    "                zsrf0_arr = np.append(zsrf0_arr, zsrf0_cross)\n",
    "                zbed0_arr = np.append(zbed0_arr, zbed0_cross)\n",
    "                thick0_arr = np.append(thick0_arr, thick0_cross)\n",
    "\n",
    "                track1_arr = np.append(track1_arr, crossing[1])\n",
    "                zsrf1_arr = np.append(zsrf1_arr, zsrf1_cross)\n",
    "                zbed1_arr = np.append(zbed1_arr, zbed1_cross)\n",
    "                thick1_arr = np.append(thick1_arr, thick1_cross)   \n",
    "\n",
    "                beddb0_arr = np.append(beddb0_arr, beddb0)     \n",
    "                beddb1_arr = np.append(beddb1_arr, beddb1)    \n",
    "            \n",
    "            else:\n",
    "                rem_idx.append(_i) \n",
    "\n",
    "        # if closest point is further than threshold, remove crossing\n",
    "        else:\n",
    "            rem_idx.append(_i)\n",
    "\n",
    "    # remove crossings where closes points are above threshold distance\n",
    "    for idx in sorted(rem_idx, reverse = True):  \n",
    "        del crossings[idx] \n",
    "\n",
    "    # build df\n",
    "    crossings_df = pd.DataFrame({\n",
    "                                \"x\":x_arr, \"y\":y_arr, \"brng0\":brng0_arr, \"brng1\":brng1_arr,\n",
    "                                 \"dbrng\":np.abs(brng0_arr-brng1_arr), \"dbed_db\":np.abs(beddb0_arr-beddb1_arr),\n",
    "                                \"track0\":track0_arr, \"zsrf0\":zsrf0_arr, \"zbed0\":zbed0_arr, \"thick0\":thick0_arr,\n",
    "                                \"track1\": track1_arr, \"bed_db0\":beddb0_arr, \"bed_db1\":beddb1_arr, \n",
    "                                 \"zsrf1\":zsrf1_arr, \"zbed1\":zbed1_arr, \"thick1\":thick1_arr,\n",
    "                                \"dzsrf\":np.abs(zsrf0_arr-zsrf1_arr), \"dzbed\":np.abs(zbed0_arr-zbed1_arr),\n",
    "                                \"dthick\":np.abs(thick0_arr-thick1_arr)\n",
    "                                })\n",
    "    return crossings_df\n",
    "\n",
    "\n",
    "# create histogram to show crossover statistics\n",
    "def plot_stats(crossings_df):\n",
    "    # plot stats\n",
    "    stats_df = crossings_df[[\"dzsrf\",\"dzbed\",\"dthick\"]]\n",
    "    stats_df = crossings_df[[\"dzbed\"]]\n",
    "\n",
    "    fig, ax = plt.subplots(1,sharex=True,figsize=((6.5,2)))\n",
    "    for i, (name, col) in enumerate(stats_df.iteritems()):\n",
    "        # ax = axes[\n",
    "        col.hist(ax=ax,bins=len(col)//10)\n",
    "        mn = ax.axvline(col.mean(), color='r', linestyle='dashed', linewidth=1,label='Mean',zorder=1000)\n",
    "        std = ax.axvline(col.mean()-col.std(), color='k', linestyle='dashed', linewidth=1,label=r'$1\\sigma$',zorder=1000)\n",
    "        ax.axvline(col.mean()+col.std(), color='k', linestyle='dashed', linewidth=1,zorder=1000)\n",
    "        # ax2 = col.plot.kde(ax=ax, secondary_y=True, label=\"PDF\",zorder=100)\n",
    "        # ax2.set_ylim(0)\n",
    "        ax.set_xlim([0, 20 * np.rint(np.nanmax(col)/20)])\n",
    "        ax.text(x=.85,y=.4,s='N = ' + str(len(col)), transform=ax.transAxes)\n",
    "        ax.legend((mn, std), ('Mean', r'$1\\sigma$'), loc='upper right')\n",
    "        print(\"mean \" + name + \": \" + str(col.mean()) + \" +/- \" + str(col.std()))\n",
    "\n",
    "\n",
    "    ax.grid(False)\n",
    "    ax.set_ylabel('Crossings')\n",
    "    ax.set_xlabel(\"Measurement Disagreement [m]\")\n",
    "    return fig\n",
    "\n",
    "\n",
    "# gpkg is a funciton for saving picks to a geopackage/shapefile\n",
    "def gpkg(fpath, df, epsg):\n",
    "    # fpath is the path for where the exported csv pick file should be saved [str]\n",
    "    # df pick output dataframe\n",
    "    # crs is the coordinate reference system for the shapefile output\n",
    "    df_copy = df.copy()\n",
    "    if df_copy[\"x\"].isnull().all() or df_copy[\"y\"].isnull().all():\n",
    "        print(\"no geopackage was exported due to missing gps data\")\n",
    "        return\n",
    "    # convert lon, lat to shapely points\n",
    "    geometry = [Point(xy) for xy in zip(df_copy[\"x\"], df_copy[\"y\"])]\n",
    "    df_copy.drop([\"x\", \"y\"], axis=1)\n",
    "\n",
    "    # create geopandas df and export\n",
    "    gdf = gpd.GeoDataFrame(df, crs=epsg, geometry=geometry)\n",
    "    gdf.to_file(fpath, driver=\"GPKG\")\n",
    "\n",
    "    return"
   ]
  },
  {
   "attachments": {},
   "cell_type": "markdown",
   "metadata": {},
   "source": [
    "Load RAGU radar picks"
   ]
  },
  {
   "cell_type": "code",
   "execution_count": 8,
   "metadata": {
    "scrolled": true
   },
   "outputs": [],
   "source": [
    "### params ###\n",
    "dpath = \"C:/Users/btober/OneDrive/Documents/MARS/orig/xtra/Ruth2022/pk_bst/\"                               # data path\n",
    "# dpath = \"F:/MARS/orig/xtra/Ruth2022/pk_bst/\"\n",
    "df = gpd.read_file(dpath + 'Ruth2022_pk_bst.gpkg')                                          # use pandas to load dataset with picks\n",
    "df = df[df.bed_sample.notnull()]                                                              # filter null points\n",
    "thresh_dist = 50                                                                            # specify distance threshold between crossover points [m]\n",
    "thresh_brng = 30\n",
    "to_epsg=32605\n",
    "df = df.to_crs(to_epsg)"
   ]
  },
  {
   "cell_type": "code",
   "execution_count": 9,
   "metadata": {},
   "outputs": [
    {
     "data": {
      "text/html": [
       "<div>\n",
       "<style scoped>\n",
       "    .dataframe tbody tr th:only-of-type {\n",
       "        vertical-align: middle;\n",
       "    }\n",
       "\n",
       "    .dataframe tbody tr th {\n",
       "        vertical-align: top;\n",
       "    }\n",
       "\n",
       "    .dataframe thead th {\n",
       "        text-align: right;\n",
       "    }\n",
       "</style>\n",
       "<table border=\"1\" class=\"dataframe\">\n",
       "  <thead>\n",
       "    <tr style=\"text-align: right;\">\n",
       "      <th></th>\n",
       "      <th>track</th>\n",
       "      <th>trace</th>\n",
       "      <th>lon</th>\n",
       "      <th>lat</th>\n",
       "      <th>elev</th>\n",
       "      <th>srf_sample</th>\n",
       "      <th>srf_twtt</th>\n",
       "      <th>srf_elev</th>\n",
       "      <th>srf_amp</th>\n",
       "      <th>bed_sample</th>\n",
       "      <th>bed_twtt</th>\n",
       "      <th>bed_amp</th>\n",
       "      <th>bed_elev</th>\n",
       "      <th>srf_bed_thick</th>\n",
       "      <th>geometry</th>\n",
       "    </tr>\n",
       "  </thead>\n",
       "  <tbody>\n",
       "    <tr>\n",
       "      <th>0</th>\n",
       "      <td>20220501_212721</td>\n",
       "      <td>0</td>\n",
       "      <td>-150.749199</td>\n",
       "      <td>62.968637</td>\n",
       "      <td>1706.724121</td>\n",
       "      <td>33.0</td>\n",
       "      <td>0.000002</td>\n",
       "      <td>1706.724121</td>\n",
       "      <td>150.749725</td>\n",
       "      <td>52.0</td>\n",
       "      <td>0.000003</td>\n",
       "      <td>115.745796</td>\n",
       "      <td>1610.342824</td>\n",
       "      <td>96.381297</td>\n",
       "      <td>POINT (614113.892 6984091.826)</td>\n",
       "    </tr>\n",
       "    <tr>\n",
       "      <th>1</th>\n",
       "      <td>20220501_212721</td>\n",
       "      <td>1</td>\n",
       "      <td>-150.749184</td>\n",
       "      <td>62.968639</td>\n",
       "      <td>1706.607361</td>\n",
       "      <td>33.0</td>\n",
       "      <td>0.000002</td>\n",
       "      <td>1706.607361</td>\n",
       "      <td>150.549988</td>\n",
       "      <td>51.0</td>\n",
       "      <td>0.000003</td>\n",
       "      <td>47.507946</td>\n",
       "      <td>1615.135759</td>\n",
       "      <td>91.471602</td>\n",
       "      <td>POINT (614114.658 6984092.066)</td>\n",
       "    </tr>\n",
       "    <tr>\n",
       "      <th>2</th>\n",
       "      <td>20220501_212721</td>\n",
       "      <td>2</td>\n",
       "      <td>-150.749176</td>\n",
       "      <td>62.968646</td>\n",
       "      <td>1706.340454</td>\n",
       "      <td>33.0</td>\n",
       "      <td>0.000002</td>\n",
       "      <td>1706.340454</td>\n",
       "      <td>148.809097</td>\n",
       "      <td>51.0</td>\n",
       "      <td>0.000003</td>\n",
       "      <td>48.305878</td>\n",
       "      <td>1614.799401</td>\n",
       "      <td>91.541053</td>\n",
       "      <td>POINT (614115.019 6984092.823)</td>\n",
       "    </tr>\n",
       "    <tr>\n",
       "      <th>3</th>\n",
       "      <td>20220501_212721</td>\n",
       "      <td>3</td>\n",
       "      <td>-150.749168</td>\n",
       "      <td>62.968653</td>\n",
       "      <td>1706.073547</td>\n",
       "      <td>33.0</td>\n",
       "      <td>0.000002</td>\n",
       "      <td>1706.073547</td>\n",
       "      <td>149.828110</td>\n",
       "      <td>51.0</td>\n",
       "      <td>0.000003</td>\n",
       "      <td>48.204731</td>\n",
       "      <td>1614.466371</td>\n",
       "      <td>91.607176</td>\n",
       "      <td>POINT (614115.380 6984093.579)</td>\n",
       "    </tr>\n",
       "    <tr>\n",
       "      <th>4</th>\n",
       "      <td>20220501_212721</td>\n",
       "      <td>4</td>\n",
       "      <td>-150.749161</td>\n",
       "      <td>62.968649</td>\n",
       "      <td>1706.078918</td>\n",
       "      <td>33.0</td>\n",
       "      <td>0.000002</td>\n",
       "      <td>1706.078918</td>\n",
       "      <td>149.782303</td>\n",
       "      <td>51.0</td>\n",
       "      <td>0.000003</td>\n",
       "      <td>44.501232</td>\n",
       "      <td>1614.508681</td>\n",
       "      <td>91.570237</td>\n",
       "      <td>POINT (614115.781 6984093.168)</td>\n",
       "    </tr>\n",
       "  </tbody>\n",
       "</table>\n",
       "</div>"
      ],
      "text/plain": [
       "             track  trace         lon        lat         elev  srf_sample  \\\n",
       "0  20220501_212721      0 -150.749199  62.968637  1706.724121        33.0   \n",
       "1  20220501_212721      1 -150.749184  62.968639  1706.607361        33.0   \n",
       "2  20220501_212721      2 -150.749176  62.968646  1706.340454        33.0   \n",
       "3  20220501_212721      3 -150.749168  62.968653  1706.073547        33.0   \n",
       "4  20220501_212721      4 -150.749161  62.968649  1706.078918        33.0   \n",
       "\n",
       "   srf_twtt     srf_elev     srf_amp  bed_sample  bed_twtt     bed_amp  \\\n",
       "0  0.000002  1706.724121  150.749725        52.0  0.000003  115.745796   \n",
       "1  0.000002  1706.607361  150.549988        51.0  0.000003   47.507946   \n",
       "2  0.000002  1706.340454  148.809097        51.0  0.000003   48.305878   \n",
       "3  0.000002  1706.073547  149.828110        51.0  0.000003   48.204731   \n",
       "4  0.000002  1706.078918  149.782303        51.0  0.000003   44.501232   \n",
       "\n",
       "      bed_elev  srf_bed_thick                        geometry  \n",
       "0  1610.342824      96.381297  POINT (614113.892 6984091.826)  \n",
       "1  1615.135759      91.471602  POINT (614114.658 6984092.066)  \n",
       "2  1614.799401      91.541053  POINT (614115.019 6984092.823)  \n",
       "3  1614.466371      91.607176  POINT (614115.380 6984093.579)  \n",
       "4  1614.508681      91.570237  POINT (614115.781 6984093.168)  "
      ]
     },
     "execution_count": 9,
     "metadata": {},
     "output_type": "execute_result"
    }
   ],
   "source": [
    "# inspect dataframe\n",
    "df.head()"
   ]
  },
  {
   "cell_type": "code",
   "execution_count": 21,
   "metadata": {},
   "outputs": [
    {
     "name": "stdout",
     "output_type": "stream",
     "text": [
      "58 [302]\n",
      "62 [298]\n",
      "121 [6991]\n",
      "122 [238, 6992]\n",
      "123 [237]\n",
      "124 [236]\n",
      "144 [216]\n",
      "158 [1580]\n"
     ]
    }
   ],
   "source": [
    "# all_pts = np.column_stack((df.centroid.x, df.centroid.y))\n",
    "# tree = spatial.cKDTree(all_pts)\n",
    "\n",
    "counter = 0\n",
    "\n",
    "# for _t in df.track.unique():\n",
    "_t = df.track.unique()[-1]\n",
    "idx = df.track == _t\n",
    "pts = all_pts[idx]\n",
    "pts_ = all_pts[~idx]\n",
    "tree = spatial.cKDTree(pts)\n",
    "tree_ = spatial.cKDTree(pts_)\n",
    "indexes = tree.query_ball_tree(tree_, r=1)\n",
    "\n",
    "    # print(_t,len(pts_)/len(pts))\n",
    "    # counter = 0\n",
    "for i,l in enumerate(indexes):\n",
    "    if len(l) > 0:\n",
    "        print(i,l)\n",
    "        counter += len(l)"
   ]
  },
  {
   "cell_type": "code",
   "execution_count": 16,
   "metadata": {},
   "outputs": [
    {
     "data": {
      "text/plain": [
       "9"
      ]
     },
     "execution_count": 16,
     "metadata": {},
     "output_type": "execute_result"
    }
   ],
   "source": [
    "counter"
   ]
  },
  {
   "cell_type": "code",
   "execution_count": 20,
   "metadata": {},
   "outputs": [
    {
     "name": "stdout",
     "output_type": "stream",
     "text": [
      "(array([0], dtype=int64),)\n"
     ]
    }
   ],
   "source": [
    "print(np.where(len(indexes)>0))"
   ]
  },
  {
   "cell_type": "code",
   "execution_count": 18,
   "metadata": {},
   "outputs": [
    {
     "name": "stdout",
     "output_type": "stream",
     "text": [
      "[[], [], [], [], [], [], [], [], [], [], [], [], [], [], [], [], [], [], [], [], [], [], [], [], [], [], [], [], [], [], [], [], [], [], [], [], [], [], [], [], [], [], [], [], [], [], [], [], [], [], [], [], [], [], [], [], [], [], [302], [], [], [], [298], [], [], [], [], [], [], [], [], [], [], [], [], [], [], [], [], [], [], [], [], [], [], [], [], [], [], [], [], [], [], [], [], [], [], [], [], [], [], [], [], [], [], [], [], [], [], [], [], [], [], [], [], [], [], [], [], [], [], [6991], [238, 6992], [237], [236], [], [], [], [], [], [], [], [], [], [], [], [], [], [], [], [], [], [], [], [216], [], [], [], [], [], [], [], [], [], [], [], [], [], [1580], [], [], [], [], [], [], [], [], [], []]\n"
     ]
    }
   ],
   "source": [
    "print(indexes)"
   ]
  },
  {
   "cell_type": "code",
   "execution_count": 17,
   "metadata": {},
   "outputs": [
    {
     "data": {
      "text/plain": [
       "[<matplotlib.lines.Line2D at 0x1ab216ba430>]"
      ]
     },
     "execution_count": 17,
     "metadata": {},
     "output_type": "execute_result"
    },
    {
     "data": {
      "image/png": "[encoded data removed]",
      "text/plain": [
       "<Figure size 432x288 with 1 Axes>"
      ]
     },
     "metadata": {
      "needs_background": "light"
     },
     "output_type": "display_data"
    }
   ],
   "source": [
    "plt.plot(pts[58,0],pts[58,1])\n",
    "plt.plot(pts_[302,0],pts_[302,1])"
   ]
  },
  {
   "cell_type": "code",
   "execution_count": 17,
   "metadata": {},
   "outputs": [
    {
     "name": "stdout",
     "output_type": "stream",
     "text": [
      "[ 614499.9283917  6985489.88337253] [ 614500.31491388 6985489.89695799]\n"
     ]
    }
   ],
   "source": [
    "print(pts[58],pts_[302])"
   ]
  },
  {
   "cell_type": "code",
   "execution_count": 27,
   "metadata": {},
   "outputs": [
    {
     "data": {
      "text/plain": [
       "0.386760865146659"
      ]
     },
     "execution_count": 27,
     "metadata": {},
     "output_type": "execute_result"
    }
   ],
   "source": [
    "np.linalg.norm(pts[58] - pts_[302])"
   ]
  },
  {
   "cell_type": "code",
   "execution_count": 25,
   "metadata": {},
   "outputs": [
    {
     "name": "stderr",
     "output_type": "stream",
     "text": [
      "C:\\Users\\btober\\AppData\\Local\\Temp\\ipykernel_14652\\498314421.py:1: RuntimeWarning: invalid value encountered in double_scalars\n",
      "  ((pts[58][0]-pts[59][0])**2-(pts[58][1]-pts[59][1])**2)**(1/2)\n"
     ]
    },
    {
     "data": {
      "text/plain": [
       "nan"
      ]
     },
     "execution_count": 25,
     "metadata": {},
     "output_type": "execute_result"
    }
   ],
   "source": [
    "((pts[58][0]-pts[59][0])**2-(pts[58][1]-pts[59][1])**2)**(1/2)"
   ]
  },
  {
   "cell_type": "markdown",
   "metadata": {},
   "source": [
    "Filter dataframe to keep only IRARES1B_2021* profiles"
   ]
  },
  {
   "cell_type": "code",
   "execution_count": 5,
   "metadata": {},
   "outputs": [],
   "source": [
    "# filter and keep just 2021 tracks - this can be achieved using pandas .str.contains() method\n"
   ]
  },
  {
   "cell_type": "markdown",
   "metadata": {},
   "source": [
    "Convert lon, lat points in dataframe which are currently unprojected decimal-degrees to a projected coordinate system - let's use epsg:3338 alaska albers\n",
    "\n",
    "This will allow us to get distance between points in meters"
   ]
  },
  {
   "cell_type": "code",
   "execution_count": 6,
   "metadata": {},
   "outputs": [],
   "source": [
    "# use our project_array function defined above to convert df[\"lon\"], df[\"lat\"] to df[\"x\"],df[\"y\"]\n",
    "df[\"x\"], df[\"y\"] = project_array(df[\"lon\"], df[\"lat\"], from_epsg=4326, to_epsg=to_epsg)"
   ]
  },
  {
   "cell_type": "markdown",
   "metadata": {},
   "source": [
    "To look at crossover disagreement in reflectivity, we'll want to convert amplitudes to power in deciBels\n",
    "\n",
    "$$P_{dB} = \\log_{10}(a^{2})$$\n",
    "$$P_{dB} = 20* \\log_{10}(a)$$\n",
    "\n",
    "where $P_{dB}$ is the power of our radar return in decibels, and $a$ is the amplitude of our return."
   ]
  },
  {
   "cell_type": "code",
   "execution_count": 7,
   "metadata": {},
   "outputs": [],
   "source": [
    "# df[\"p_db\"] = #"
   ]
  },
  {
   "cell_type": "markdown",
   "metadata": {},
   "source": [
    "Now let's get all of our profile crossings. This requires several steps:\n",
    "\n",
    "1. convert all x,y points to shapely point objects\n",
    "2. group all points by the \"track\" field and convert to linestrings\n",
    "3. create a list containing the track name followed by the shapely linestring for each profile\n",
    "4. use our track_crossings() method to get the intersections of all our profiles"
   ]
  },
  {
   "cell_type": "code",
   "execution_count": 8,
   "metadata": {},
   "outputs": [
    {
     "name": "stdout",
     "output_type": "stream",
     "text": [
      "['20220501_212721', '20220501_221501', <shapely.geometry.point.Point object at 0x000001A209090340>]\n",
      "770\n"
     ]
    },
    {
     "name": "stderr",
     "output_type": "stream",
     "text": [
      "C:\\Users\\btober\\AppData\\Local\\Temp\\ipykernel_19724\\337295934.py:116: ShapelyDeprecationWarning: Iteration over multi-part geometries is deprecated and will be removed in Shapely 2.0. Use the `geoms` property to access the constituent parts of a multi-part geometry.\n",
      "  for pt in crossing:\n"
     ]
    }
   ],
   "source": [
    "# convert points in each track to linestring grouped by track\n",
    "# zip the coordinates into a point object and convert to a shapely geodataframe\n",
    "geometry = [Point(xy) for xy in zip(df.x, df.y)]\n",
    "# geometry = [Point(xy) for xy in zip(df.lon, df.lat)]\n",
    "gdf = GeoDataFrame(df, geometry=geometry)\n",
    "\n",
    "# aggregate points by track using groupby and set as a linestring\n",
    "gdf2 = gdf.groupby([\"track\"])[\"geometry\"].apply(lambda x: LineString(x.tolist()))\n",
    "gdf2 = GeoDataFrame(gdf2, geometry=\"geometry\")\n",
    "\n",
    "# compile list of lines with linestring\n",
    "lines = list(gdf2[\"geometry\"])\n",
    "lines = [tuple((fname, lines[_i])) for _i, fname in enumerate(gdf2.index.values)]\n",
    "\n",
    "# get all track crossings\n",
    "crossings = track_crossings(lines)\n",
    "\n",
    "# inspect output\n",
    "# each sublist should have: ['track0', 'track1', shapelyPoint]\n",
    "print(crossings[0])\n",
    "# the length of our crossings list tells us how many individual radar profile intersections we have - this will likely be reduced when we account for our defined distance threshold\n",
    "print(len(crossings))"
   ]
  },
  {
   "cell_type": "markdown",
   "metadata": {},
   "source": [
    "Now that we have a list of all tracks and where they cross, let's build our dataset comparing measurements at each intersection"
   ]
  },
  {
   "cell_type": "code",
   "execution_count": 9,
   "metadata": {},
   "outputs": [
    {
     "data": {
      "text/html": [
       "<div>\n",
       "<style scoped>\n",
       "    .dataframe tbody tr th:only-of-type {\n",
       "        vertical-align: middle;\n",
       "    }\n",
       "\n",
       "    .dataframe tbody tr th {\n",
       "        vertical-align: top;\n",
       "    }\n",
       "\n",
       "    .dataframe thead th {\n",
       "        text-align: right;\n",
       "    }\n",
       "</style>\n",
       "<table border=\"1\" class=\"dataframe\">\n",
       "  <thead>\n",
       "    <tr style=\"text-align: right;\">\n",
       "      <th></th>\n",
       "      <th>x</th>\n",
       "      <th>y</th>\n",
       "      <th>brng0</th>\n",
       "      <th>brng1</th>\n",
       "      <th>dbrng</th>\n",
       "      <th>dbed_db</th>\n",
       "      <th>track0</th>\n",
       "      <th>zsrf0</th>\n",
       "      <th>zbed0</th>\n",
       "      <th>thick0</th>\n",
       "      <th>track1</th>\n",
       "      <th>bed_db0</th>\n",
       "      <th>bed_db1</th>\n",
       "      <th>zsrf1</th>\n",
       "      <th>zbed1</th>\n",
       "      <th>thick1</th>\n",
       "      <th>dzsrf</th>\n",
       "      <th>dzbed</th>\n",
       "      <th>dthick</th>\n",
       "    </tr>\n",
       "  </thead>\n",
       "  <tbody>\n",
       "    <tr>\n",
       "      <th>0</th>\n",
       "      <td>614387.256544</td>\n",
       "      <td>6.985023e+06</td>\n",
       "      <td>4.086196</td>\n",
       "      <td>173.030376</td>\n",
       "      <td>168.944181</td>\n",
       "      <td>0.0</td>\n",
       "      <td>20220501_212721</td>\n",
       "      <td>1617.284444</td>\n",
       "      <td>1292.767673</td>\n",
       "      <td>324.516771</td>\n",
       "      <td>20220501_221501</td>\n",
       "      <td>-9999.0</td>\n",
       "      <td>-9999.0</td>\n",
       "      <td>1618.043042</td>\n",
       "      <td>1348.617074</td>\n",
       "      <td>269.425968</td>\n",
       "      <td>0.758597</td>\n",
       "      <td>55.849400</td>\n",
       "      <td>55.090803</td>\n",
       "    </tr>\n",
       "    <tr>\n",
       "      <th>1</th>\n",
       "      <td>614386.929980</td>\n",
       "      <td>6.985098e+06</td>\n",
       "      <td>178.422717</td>\n",
       "      <td>11.304947</td>\n",
       "      <td>167.117770</td>\n",
       "      <td>0.0</td>\n",
       "      <td>20220501_212721</td>\n",
       "      <td>1616.092954</td>\n",
       "      <td>1261.195748</td>\n",
       "      <td>354.897206</td>\n",
       "      <td>20220501_221501</td>\n",
       "      <td>-9999.0</td>\n",
       "      <td>-9999.0</td>\n",
       "      <td>1616.575465</td>\n",
       "      <td>1321.335123</td>\n",
       "      <td>295.240342</td>\n",
       "      <td>0.482510</td>\n",
       "      <td>60.139375</td>\n",
       "      <td>59.656865</td>\n",
       "    </tr>\n",
       "    <tr>\n",
       "      <th>2</th>\n",
       "      <td>614116.039537</td>\n",
       "      <td>6.984095e+06</td>\n",
       "      <td>137.730544</td>\n",
       "      <td>16.856047</td>\n",
       "      <td>120.874496</td>\n",
       "      <td>0.0</td>\n",
       "      <td>20220501_212721</td>\n",
       "      <td>1706.089057</td>\n",
       "      <td>1614.588546</td>\n",
       "      <td>91.500511</td>\n",
       "      <td>20220505_194807</td>\n",
       "      <td>-9999.0</td>\n",
       "      <td>-9999.0</td>\n",
       "      <td>1708.480541</td>\n",
       "      <td>1621.586841</td>\n",
       "      <td>86.893700</td>\n",
       "      <td>2.391484</td>\n",
       "      <td>6.998295</td>\n",
       "      <td>4.606811</td>\n",
       "    </tr>\n",
       "    <tr>\n",
       "      <th>3</th>\n",
       "      <td>614115.580448</td>\n",
       "      <td>6.984093e+06</td>\n",
       "      <td>137.730544</td>\n",
       "      <td>16.856020</td>\n",
       "      <td>120.874523</td>\n",
       "      <td>0.0</td>\n",
       "      <td>20220501_212721</td>\n",
       "      <td>1706.076233</td>\n",
       "      <td>1614.487526</td>\n",
       "      <td>91.588707</td>\n",
       "      <td>20220505_194807</td>\n",
       "      <td>-9999.0</td>\n",
       "      <td>-9999.0</td>\n",
       "      <td>1708.422401</td>\n",
       "      <td>1621.529042</td>\n",
       "      <td>86.893359</td>\n",
       "      <td>2.346169</td>\n",
       "      <td>7.041516</td>\n",
       "      <td>4.695348</td>\n",
       "    </tr>\n",
       "    <tr>\n",
       "      <th>4</th>\n",
       "      <td>615351.726465</td>\n",
       "      <td>6.986528e+06</td>\n",
       "      <td>65.753288</td>\n",
       "      <td>16.844384</td>\n",
       "      <td>48.908904</td>\n",
       "      <td>0.0</td>\n",
       "      <td>20220501_212721</td>\n",
       "      <td>1594.328045</td>\n",
       "      <td>1124.171814</td>\n",
       "      <td>470.156231</td>\n",
       "      <td>20220506_195010</td>\n",
       "      <td>-9999.0</td>\n",
       "      <td>-9999.0</td>\n",
       "      <td>1594.903552</td>\n",
       "      <td>1125.223052</td>\n",
       "      <td>469.680500</td>\n",
       "      <td>0.575507</td>\n",
       "      <td>1.051238</td>\n",
       "      <td>0.475731</td>\n",
       "    </tr>\n",
       "  </tbody>\n",
       "</table>\n",
       "</div>"
      ],
      "text/plain": [
       "               x             y       brng0       brng1       dbrng  dbed_db  \\\n",
       "0  614387.256544  6.985023e+06    4.086196  173.030376  168.944181      0.0   \n",
       "1  614386.929980  6.985098e+06  178.422717   11.304947  167.117770      0.0   \n",
       "2  614116.039537  6.984095e+06  137.730544   16.856047  120.874496      0.0   \n",
       "3  614115.580448  6.984093e+06  137.730544   16.856020  120.874523      0.0   \n",
       "4  615351.726465  6.986528e+06   65.753288   16.844384   48.908904      0.0   \n",
       "\n",
       "            track0        zsrf0        zbed0      thick0           track1  \\\n",
       "0  20220501_212721  1617.284444  1292.767673  324.516771  20220501_221501   \n",
       "1  20220501_212721  1616.092954  1261.195748  354.897206  20220501_221501   \n",
       "2  20220501_212721  1706.089057  1614.588546   91.500511  20220505_194807   \n",
       "3  20220501_212721  1706.076233  1614.487526   91.588707  20220505_194807   \n",
       "4  20220501_212721  1594.328045  1124.171814  470.156231  20220506_195010   \n",
       "\n",
       "   bed_db0  bed_db1        zsrf1        zbed1      thick1     dzsrf  \\\n",
       "0  -9999.0  -9999.0  1618.043042  1348.617074  269.425968  0.758597   \n",
       "1  -9999.0  -9999.0  1616.575465  1321.335123  295.240342  0.482510   \n",
       "2  -9999.0  -9999.0  1708.480541  1621.586841   86.893700  2.391484   \n",
       "3  -9999.0  -9999.0  1708.422401  1621.529042   86.893359  2.346169   \n",
       "4  -9999.0  -9999.0  1594.903552  1125.223052  469.680500  0.575507   \n",
       "\n",
       "       dzbed     dthick  \n",
       "0  55.849400  55.090803  \n",
       "1  60.139375  59.656865  \n",
       "2   6.998295   4.606811  \n",
       "3   7.041516   4.695348  \n",
       "4   1.051238   0.475731  "
      ]
     },
     "execution_count": 9,
     "metadata": {},
     "output_type": "execute_result"
    }
   ],
   "source": [
    "# compare radar measurements at each crossing\n",
    "crossings_df = comp_crossings(df, crossings, thresh_dist, thresh_brng)\n",
    "# inspect output\n",
    "crossings_df.head()"
   ]
  },
  {
   "cell_type": "markdown",
   "metadata": {},
   "source": [
    "Should probably just leave 20160528-224052 out of the analysis due to offset issue and since 20160528-223259 is nearly collocated and has better xover"
   ]
  },
  {
   "cell_type": "code",
   "execution_count": 10,
   "metadata": {},
   "outputs": [],
   "source": [
    "# t1 = \"IRARES1B_20160528-224052\"\n",
    "# crossings_df = crossings_df[~((crossings_df.track0==t1) | (crossings_df.track1==t1))]\n",
    "# crossings_df[['dzsrf','dzbed','dthick']].describe()"
   ]
  },
  {
   "cell_type": "code",
   "execution_count": 11,
   "metadata": {},
   "outputs": [
    {
     "data": {
      "text/html": [
       "<div>\n",
       "<style scoped>\n",
       "    .dataframe tbody tr th:only-of-type {\n",
       "        vertical-align: middle;\n",
       "    }\n",
       "\n",
       "    .dataframe tbody tr th {\n",
       "        vertical-align: top;\n",
       "    }\n",
       "\n",
       "    .dataframe thead th {\n",
       "        text-align: right;\n",
       "    }\n",
       "</style>\n",
       "<table border=\"1\" class=\"dataframe\">\n",
       "  <thead>\n",
       "    <tr style=\"text-align: right;\">\n",
       "      <th></th>\n",
       "      <th>dzsrf</th>\n",
       "      <th>dzbed</th>\n",
       "      <th>dthick</th>\n",
       "    </tr>\n",
       "  </thead>\n",
       "  <tbody>\n",
       "    <tr>\n",
       "      <th>count</th>\n",
       "      <td>81.000000</td>\n",
       "      <td>81.000000</td>\n",
       "      <td>81.000000</td>\n",
       "    </tr>\n",
       "    <tr>\n",
       "      <th>mean</th>\n",
       "      <td>0.631814</td>\n",
       "      <td>40.060617</td>\n",
       "      <td>39.839012</td>\n",
       "    </tr>\n",
       "    <tr>\n",
       "      <th>std</th>\n",
       "      <td>0.503768</td>\n",
       "      <td>32.041371</td>\n",
       "      <td>31.957398</td>\n",
       "    </tr>\n",
       "    <tr>\n",
       "      <th>min</th>\n",
       "      <td>0.014857</td>\n",
       "      <td>0.036440</td>\n",
       "      <td>0.089034</td>\n",
       "    </tr>\n",
       "    <tr>\n",
       "      <th>25%</th>\n",
       "      <td>0.278492</td>\n",
       "      <td>17.434370</td>\n",
       "      <td>17.626696</td>\n",
       "    </tr>\n",
       "    <tr>\n",
       "      <th>50%</th>\n",
       "      <td>0.520021</td>\n",
       "      <td>32.919662</td>\n",
       "      <td>33.251249</td>\n",
       "    </tr>\n",
       "    <tr>\n",
       "      <th>75%</th>\n",
       "      <td>0.811444</td>\n",
       "      <td>59.239062</td>\n",
       "      <td>59.656865</td>\n",
       "    </tr>\n",
       "    <tr>\n",
       "      <th>max</th>\n",
       "      <td>2.737320</td>\n",
       "      <td>172.448856</td>\n",
       "      <td>169.711536</td>\n",
       "    </tr>\n",
       "  </tbody>\n",
       "</table>\n",
       "</div>"
      ],
      "text/plain": [
       "           dzsrf       dzbed      dthick\n",
       "count  81.000000   81.000000   81.000000\n",
       "mean    0.631814   40.060617   39.839012\n",
       "std     0.503768   32.041371   31.957398\n",
       "min     0.014857    0.036440    0.089034\n",
       "25%     0.278492   17.434370   17.626696\n",
       "50%     0.520021   32.919662   33.251249\n",
       "75%     0.811444   59.239062   59.656865\n",
       "max     2.737320  172.448856  169.711536"
      ]
     },
     "execution_count": 11,
     "metadata": {},
     "output_type": "execute_result"
    }
   ],
   "source": [
    "# further inspect output stats of crossover disagreement\n",
    "crossings_df[['dzsrf','dzbed','dthick']].describe()"
   ]
  },
  {
   "cell_type": "code",
   "execution_count": 12,
   "metadata": {},
   "outputs": [],
   "source": [
    "arr = crossings_df[\"dzbed\"]\n",
    "q1 = np.quantile(arr,.25)\n",
    "q2 = np.quantile(arr,.5)\n",
    "q3 = np.quantile(arr,.75)"
   ]
  },
  {
   "cell_type": "code",
   "execution_count": 13,
   "metadata": {},
   "outputs": [
    {
     "name": "stderr",
     "output_type": "stream",
     "text": [
      "No handles with labels found to put in legend.\n"
     ]
    },
    {
     "data": {
      "image/png": "[encoded data removed]",
      "text/plain": [
       "<Figure size 234x234 with 2 Axes>"
      ]
     },
     "metadata": {
      "needs_background": "light"
     },
     "output_type": "display_data"
    }
   ],
   "source": [
    "# create bar plot\n",
    "fig, ax = plt.subplots(2,1, figsize=(3.25,3.25),gridspec_kw={'height_ratios': [.5,3]},sharex='col',sharey='row')\n",
    "\n",
    "# box and whisker plots\n",
    "flier = dict(markerfacecolor='w', marker='o', markersize='2', markeredgewidth=.25,zorder=-1000)\n",
    "mp=dict(color=\"tab:orange\", alpha=1, lw=1)\n",
    "ax[0].boxplot(arr,vert=False,showfliers=True,widths=.5,flierprops=flier, medianprops=mp)\n",
    "\n",
    "nbins=50\n",
    "ax[1].hist(arr, bins=nbins)\n",
    "ax[1].axvline(x=q2,c='tab:orange',lw=1)\n",
    "\n",
    "\n",
    "empty_patch = mpatches.Patch(color='none', label='Extra label') # create a patch with no color\n",
    "ax[1].legend()\n",
    "ax[1].legend(handles=[empty_patch, empty_patch, empty_patch],\n",
    "                labels=['Q' + r'$_{1}$' + ' = ' + str(round(q1)) + \" m\", 'Q' + r'$_{2}$' + ' = ' + str(round(q2)) + \" m\",'Q' + r'$_{3}$' + ' = ' + str(round(q3)) + \" m\"],\n",
    "                loc='upper right', handlelength=0, handletextpad=0, fancybox=False, frameon=False, borderaxespad=.2, borderpad=0)\n",
    "\n",
    "# labels\n",
    "for axis in [ax[0]]:\n",
    "    axis.get_yaxis().set_visible(False)\n",
    "    axis.spines['left'].set_visible(False)\n",
    "    axis.spines['top'].set_visible(False)\n",
    "    axis.spines['right'].set_visible(False)\n",
    "ax[1].set_xlabel('Bed Elevation Disagreement (m)')\n",
    "ax[1].set_ylabel('Count')\n",
    "\n",
    "fig.tight_layout()\n",
    "plt.subplots_adjust(hspace=0.125)"
   ]
  },
  {
   "cell_type": "code",
   "execution_count": 14,
   "metadata": {},
   "outputs": [],
   "source": [
    "# fig.savefig(\"C:/Users/btober/OneDrive/Documents/pres/IGS/Maritime_2022/btober/bed_xover.png\", dpi=300)"
   ]
  },
  {
   "cell_type": "code",
   "execution_count": 15,
   "metadata": {},
   "outputs": [
    {
     "name": "stdout",
     "output_type": "stream",
     "text": [
      "mean dzbed: 40.06061677593897 +/- 32.041370884525875\n"
     ]
    },
    {
     "data": {
      "image/png": "[encoded data removed]",
      "text/plain": [
       "<Figure size 468x144 with 1 Axes>"
      ]
     },
     "metadata": {
      "needs_background": "light"
     },
     "output_type": "display_data"
    }
   ],
   "source": [
    "# plot stats\n",
    "fig = plot_stats(crossings_df)\n",
    "# fig.savefig(dpath + \"bed_xover_hist.png\", dpi=300)"
   ]
  },
  {
   "cell_type": "code",
   "execution_count": 16,
   "metadata": {},
   "outputs": [],
   "source": [
    "# output crossover comparison df and geopackage\n",
    "\n",
    "out_name = dpath + \"ruth_xover2\"\n",
    "crossings_df.to_csv(out_name + \".csv\", index=False)\n",
    "\n",
    "\n",
    "gpkg(out_name + \".gpkg\", crossings_df, to_epsg)"
   ]
  },
  {
   "cell_type": "code",
   "execution_count": null,
   "metadata": {},
   "outputs": [],
   "source": []
  }
 ],
 "metadata": {
  "kernelspec": {
   "display_name": "py3",
   "language": "python",
   "name": "python3"
  },
  "language_info": {
   "codemirror_mode": {
    "name": "ipython",
    "version": 3
   },
   "file_extension": ".py",
   "mimetype": "text/x-python",
   "name": "python",
   "nbconvert_exporter": "python",
   "pygments_lexer": "ipython3",
   "version": "3.9.7 | packaged by conda-forge | (default, Sep 29 2021, 19:15:42) [MSC v.1916 64 bit (AMD64)]"
  },
  "vscode": {
   "interpreter": {
    "hash": "f7ca193a9b9b2edf99a2f55446d73258d061553cf7f16ffaf2fd0b55d43c7597"
   }
  }
 },
 "nbformat": 4,
 "nbformat_minor": 4
}
